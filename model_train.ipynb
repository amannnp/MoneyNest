{
 "cells": [
  {
   "cell_type": "code",
   "execution_count": null,
   "id": "c9139d3d-0c36-4aba-8bdf-9a6e8554c512",
   "metadata": {},
   "outputs": [
    {
     "name": "stdout",
     "output_type": "stream",
     "text": [
      "Accuracy: 1.0\n",
      "\n",
      "Classification Report:\n",
      "               precision    recall  f1-score   support\n",
      "\n",
      "           0       1.00      1.00      1.00       749\n",
      "           1       1.00      1.00      1.00       251\n",
      "\n",
      "    accuracy                           1.00      1000\n",
      "   macro avg       1.00      1.00      1.00      1000\n",
      "weighted avg       1.00      1.00      1.00      1000\n",
      "\n"
     ]
    },
    {
     "data": {
      "text/plain": [
       "['loan_default_encoder.pkl']"
      ]
     },
     "execution_count": 3,
     "metadata": {},
     "output_type": "execute_result"
    }
   ],
   "source": [
    "import pandas as pd\n",
    "from sklearn.model_selection import train_test_split\n",
    "from sklearn.preprocessing import OneHotEncoder\n",
    "from sklearn.ensemble import RandomForestClassifier\n",
    "from sklearn.metrics import classification_report, accuracy_score\n",
    "import joblib\n",
    "\n",
    "# load dataset\n",
    "df = pd.read_csv('loan_applicants.csv')\n",
    "\n",
    "# features\n",
    "X = df.drop('Loan_Approved', axis=1)\n",
    "y = df['Loan_Approved']\n",
    "\n",
    "cat_cols = ['Loan_Type', 'Gender', 'Marital_Status']\n",
    "\n",
    "# one hot encoding for numerical label\n",
    "encoder = OneHotEncoder(sparse_output=False, handle_unknown='ignore')\n",
    "X_encoded = encoder.fit_transform(X[cat_cols])\n",
    "\n",
    "encoded_df = pd.DataFrame(X_encoded, columns=encoder.get_feature_names_out(cat_cols))\n",
    "\n",
    "X_numeric = X.drop(columns=cat_cols).reset_index(drop=True)\n",
    "X_processed = pd.concat([X_numeric, encoded_df], axis=1)\n",
    "\n",
    "# data split for train and test\n",
    "X_train, X_test, y_train, y_test = train_test_split(X_processed, y, test_size=0.2, random_state=42)\n",
    "\n",
    "# random forest\n",
    "model = RandomForestClassifier(random_state=42)\n",
    "model.fit(X_train, y_train)\n",
    "\n",
    "# Predict on test data\n",
    "y_pred = model.predict(X_test)\n",
    "\n",
    "# Evaluate the model\n",
    "print(\"Accuracy:\", accuracy_score(y_test, y_pred))\n",
    "print(\"\\nClassification Report:\\n\", classification_report(y_test, y_pred))\n",
    "\n",
    "# will save in same path \n",
    "joblib.dump(model, 'loan_default_model.pkl')\n",
    "joblib.dump(encoder, 'loan_default_encoder.pkl')\n"
   ]
  },
  {
   "cell_type": "code",
   "execution_count": null,
   "id": "a688539d-28f5-46d2-978a-2495c4854ef8",
   "metadata": {},
   "outputs": [],
   "source": []
  }
 ],
 "metadata": {
  "kernelspec": {
   "display_name": "Python [conda env:base] *",
   "language": "python",
   "name": "conda-base-py"
  },
  "language_info": {
   "codemirror_mode": {
    "name": "ipython",
    "version": 3
   },
   "file_extension": ".py",
   "mimetype": "text/x-python",
   "name": "python",
   "nbconvert_exporter": "python",
   "pygments_lexer": "ipython3",
   "version": "3.12.7"
  }
 },
 "nbformat": 4,
 "nbformat_minor": 5
}

{
 "cells": [
  {
   "cell_type": "code",
   "execution_count": null,
   "id": "b762a9fd-8508-464a-b3b5-dde2d14b261f",
   "metadata": {},
   "outputs": [],
   "source": [
    "from flask import Flask, request, jsonify\n",
    "import pickle\n",
    "import os\n",
    "\n",
    "app = Flask(__name__)\n",
    "model_path = \"loan_default_model.pkl\"\n",
    "with open(model_path, \"rb\") as f:\n",
    "    model = pickle.load(f)\n",
    "\n",
    "@app.route(\"/\")\n",
    "def home():\n",
    "    return \"MoneyNest Loan Prediction API is running.\"\n",
    "\n",
    "@app.route(\"/predict\", methods=[\"POST\"])\n",
    "def predict():\n",
    "    try:\n",
    "        # Expect JSON data with loan application fields\n",
    "        data = request.get_json()\n",
    "        features = [\n",
    "            float(data[\"age\"]),\n",
    "            float(data[\"credit_score\"]),\n",
    "            float(data[\"loan_type\"]),      # assume already encoded as number\n",
    "            float(data[\"gender\"]),         # assume already encoded as number\n",
    "            float(data[\"marital_status\"]), # assume already encoded as number\n",
    "            float(data[\"annual_income\"]),\n",
    "            float(data[\"loan_term\"])\n",
    "        ]\n",
    "        prediction = model.predict([features])[0]\n",
    "\n",
    "        return jsonify({\n",
    "            \"prediction\": int(prediction),  # or str(prediction) depending on output\n",
    "            \"message\": \"Loan eligibility prediction successful.\"\n",
    "        })\n",
    "\n",
    "    except Exception as e:\n",
    "        return jsonify({\"error\": str(e)}), 400\n",
    "\n",
    "if __name__ == \"__main__\":\n",
    "    port = int(os.environ.get(\"PORT\", 10000))\n",
    "    app.run(host=\"0.0.0.0\", port=port)\n"
   ]
  }
 ],
 "metadata": {
  "kernelspec": {
   "display_name": "Python [conda env:base] *",
   "language": "python",
   "name": "conda-base-py"
  },
  "language_info": {
   "codemirror_mode": {
    "name": "ipython",
    "version": 3
   },
   "file_extension": ".py",
   "mimetype": "text/x-python",
   "name": "python",
   "nbconvert_exporter": "python",
   "pygments_lexer": "ipython3",
   "version": "3.12.7"
  }
 },
 "nbformat": 4,
 "nbformat_minor": 5
}
